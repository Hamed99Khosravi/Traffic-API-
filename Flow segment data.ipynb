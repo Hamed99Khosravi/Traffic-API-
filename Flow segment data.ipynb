{
 "cells": [
  {
   "cell_type": "code",
   "execution_count": 1,
   "metadata": {},
   "outputs": [],
   "source": [
    "import requests"
   ]
  },
  {
   "cell_type": "code",
   "execution_count": 6,
   "metadata": {},
   "outputs": [],
   "source": [
    "response = requests.get('https://api.tomtom.com/traffic/services/4/flowSegmentData/absolute/10/\n",
    "                        json?key=Av7CjQlvKsUKbCwpXdKYPVsgOjvccI8m&point=52.41072,4.84239',\n",
    "                        params={'baseURL':'api.tomtom.com','versionNumber':4,'style':'absolute','zoom':10,\n",
    "                                'format':'json','key':'Av7CjQlvKsUKbCwpXdKYPVsgOjvccI8m','point':'52.41072,4.84239'})"
   ]
  },
  {
   "cell_type": "code",
   "execution_count": 7,
   "metadata": {},
   "outputs": [
    {
     "data": {
      "text/plain": [
       "{'Date': 'Tue, 14 Jul 2020 20:03:45 GMT', 'Content-Type': 'application/json; charset=utf-8', 'Transfer-Encoding': 'chunked', 'Connection': 'keep-alive', 'Tracking-ID': '480051e4-8d6a-4d9d-bb97-95d36e90dff5', 'Access-Control-Allow-Origin': '*', 'Expires': 'Tue, 14 Jul 2020 20:03:45 GMT', 'Cache-Control': 'public, max-age=0', 'Content-Encoding': 'gzip', 'Strict-Transport-Security': 'max-age=15724800; includeSubDomains'}"
      ]
     },
     "execution_count": 7,
     "metadata": {},
     "output_type": "execute_result"
    }
   ],
   "source": [
    "response.headers"
   ]
  },
  {
   "cell_type": "code",
   "execution_count": 8,
   "metadata": {},
   "outputs": [
    {
     "data": {
      "text/plain": [
       "{'flowSegmentData': {'frc': 'FRC3',\n",
       "  'currentSpeed': 74,\n",
       "  'freeFlowSpeed': 74,\n",
       "  'currentTravelTime': 42,\n",
       "  'freeFlowTravelTime': 42,\n",
       "  'confidence': 0.8100000023841858,\n",
       "  'roadClosure': False,\n",
       "  'coordinates': {'coordinate': [{'latitude': 52.40606308516981,\n",
       "     'longitude': 4.839773568917934},\n",
       "    {'latitude': 52.40747152484432, 'longitude': 4.836625120554913},\n",
       "    {'latitude': 52.40750821722058, 'longitude': 4.836540846321725},\n",
       "    {'latitude': 52.40759167044201, 'longitude': 4.836352705715825},\n",
       "    {'latitude': 52.407873245977015, 'longitude': 4.8357171666432635},\n",
       "    {'latitude': 52.408069061874784, 'longitude': 4.835276188730518},\n",
       "    {'latitude': 52.40917263862195, 'longitude': 4.832839741720733},\n",
       "    {'latitude': 52.40970720482267, 'longitude': 4.83163897164539},\n",
       "    {'latitude': 52.4102835306285, 'longitude': 4.830348906894841},\n",
       "    {'latitude': 52.41041486574959, 'longitude': 4.830068571342196},\n",
       "    {'latitude': 52.41057811223182, 'longitude': 4.829748234659121},\n",
       "    {'latitude': 52.41069063852313, 'longitude': 4.829553142400073},\n",
       "    {'latitude': 52.410696500316845, 'longitude': 4.829543624378772}]},\n",
       "  '@version': 'traffic-service 3.2.036'}}"
      ]
     },
     "execution_count": 8,
     "metadata": {},
     "output_type": "execute_result"
    }
   ],
   "source": [
    "response.json()"
   ]
  },
  {
   "cell_type": "code",
   "execution_count": null,
   "metadata": {},
   "outputs": [],
   "source": []
  }
 ],
 "metadata": {
  "kernelspec": {
   "display_name": "Python 3",
   "language": "python",
   "name": "python3"
  },
  "language_info": {
   "codemirror_mode": {
    "name": "ipython",
    "version": 3
   },
   "file_extension": ".py",
   "mimetype": "text/x-python",
   "name": "python",
   "nbconvert_exporter": "python",
   "pygments_lexer": "ipython3",
   "version": "3.7.3"
  }
 },
 "nbformat": 4,
 "nbformat_minor": 2
}
