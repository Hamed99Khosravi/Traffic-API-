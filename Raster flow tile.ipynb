{
 "cells": [
  {
   "cell_type": "code",
   "execution_count": 1,
   "metadata": {},
   "outputs": [],
   "source": [
    "import requests"
   ]
  },
  {
   "cell_type": "code",
   "execution_count": 2,
   "metadata": {},
   "outputs": [],
   "source": [
    "response = requests.get('https://api.tomtom.com/traffic/map/4/tile/flow/absolute/12/1200/1539.png?key=Av7CjQlvKsUKbCwpXdKYPVsgOjvccI8m'\n",
    "                ,params={'baseURL':'api.tomtom.com',\n",
    "                'versionNumber':4,'style':'absolute','zoom':12,'x':1200,'y':1539,\n",
    "                'mimeType':'png','apiKey':'Av7CjQlvKsUKbCwpXdKYPVsgOjvccI8m'})"
   ]
  },
  {
   "cell_type": "code",
   "execution_count": 3,
   "metadata": {},
   "outputs": [
    {
     "data": {
      "text/plain": [
       "{'Date': 'Tue, 21 Jul 2020 11:03:40 GMT', 'Content-Type': 'image/png', 'Content-Length': '18915', 'Connection': 'keep-alive', 'Tracking-ID': 'f49bea6e-e513-439e-93f9-00c269b235b0', 'Access-Control-Allow-Origin': '*', 'Cache-Control': 'private, no-cache, no-store, max-age=0, must-revalidate', 'Strict-Transport-Security': 'max-age=15724800; includeSubDomains'}"
      ]
     },
     "execution_count": 3,
     "metadata": {},
     "output_type": "execute_result"
    }
   ],
   "source": [
    "response.headers"
   ]
  },
  {
   "cell_type": "code",
   "execution_count": 4,
   "metadata": {},
   "outputs": [
    {
     "name": "stdout",
     "output_type": "stream",
     "text": [
      "https://api.tomtom.com/traffic/map/4/tile/flow/absolute/12/1200/1539.png?key=Av7CjQlvKsUKbCwpXdKYPVsgOjvccI8m&baseURL=api.tomtom.com&versionNumber=4&style=absolute&zoom=12&x=1200&y=1539&mimeType=png&apiKey=Av7CjQlvKsUKbCwpXdKYPVsgOjvccI8m\n"
     ]
    }
   ],
   "source": [
    "print(response.url)"
   ]
  },
  {
   "cell_type": "raw",
   "metadata": {},
   "source": [
    "re"
   ]
  },
  {
   "cell_type": "code",
   "execution_count": 9,
   "metadata": {},
   "outputs": [
    {
     "name": "stdout",
     "output_type": "stream",
     "text": [
      "<Response [200]>\n"
     ]
    }
   ],
   "source": [
    "print(response)"
   ]
  },
  {
   "cell_type": "code",
   "execution_count": 10,
   "metadata": {},
   "outputs": [
    {
     "data": {
      "text/plain": [
       "'https://api.tomtom.com/traffic/map/4/tile/flow/relative/12/2044/1360.png?key=Av7CjQlvKsUKbCwpXdKYPVsgOjvccI8m&baseURL=api.tomtom.com&versionNumber=4&style=relative&zoom=12&x=2044&y=1360&mimeType=png&apiKey=Av7CjQlvKsUKbCwpXdKYPVsgOjvccI8m'"
      ]
     },
     "execution_count": 10,
     "metadata": {},
     "output_type": "execute_result"
    }
   ],
   "source": [
    "response.url"
   ]
  },
  {
   "cell_type": "code",
   "execution_count": null,
   "metadata": {},
   "outputs": [],
   "source": []
  },
  {
   "cell_type": "code",
   "execution_count": null,
   "metadata": {},
   "outputs": [],
   "source": []
  }
 ],
 "metadata": {
  "kernelspec": {
   "display_name": "Python 3",
   "language": "python",
   "name": "python3"
  },
  "language_info": {
   "codemirror_mode": {
    "name": "ipython",
    "version": 3
   },
   "file_extension": ".py",
   "mimetype": "text/x-python",
   "name": "python",
   "nbconvert_exporter": "python",
   "pygments_lexer": "ipython3",
   "version": "3.7.3"
  }
 },
 "nbformat": 4,
 "nbformat_minor": 2
}
