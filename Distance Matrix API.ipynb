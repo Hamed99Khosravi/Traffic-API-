{
 "cells": [
  {
   "cell_type": "code",
   "execution_count": 2,
   "metadata": {},
   "outputs": [],
   "source": [
    "import requests"
   ]
  },
  {
   "cell_type": "code",
   "execution_count": 37,
   "metadata": {},
   "outputs": [],
   "source": [
    "response=requests.get('https://api.neshan.org/v1/distance-matrix?origins=36.3177579,59.5323219|36.337115,59.530621&destinations=36.35067,59.5451965|36.337005,59.530021',\n",
    "                      params={'origin':'36.3177579,59.5323219|36.337115,59.530621','destination':'36.35067,59.5451965|36.337005,59.530021'},\n",
    "                      headers={'Api-Key':'service.4eHBCWzRah0FP8CavM9k3Q2msT2U9LtdZbPC7ouh'})"
   ]
  },
  {
   "cell_type": "code",
   "execution_count": 38,
   "metadata": {},
   "outputs": [
    {
     "data": {
      "text/plain": [
       "{'Content-Type': 'application/json;charset=UTF-8', 'Transfer-Encoding': 'chunked', 'Connection': 'keep-alive', 'Date': 'Tue, 21 Jul 2020 12:11:10 GMT', 'Vary': 'Accept-Encoding', 'ris-time': '2020-07-21T12:11:10.576Z', 'Server': 'ArvanCloud', 'Expires': 'Tue, 21 Jul 2020 12:11:10 GMT', 'Cache-Control': 'max-age=0', 'X-XSS-Protection': '1; mode=block', 'ar-sid': '2040', 'AR-CACHE': 'MISS', 'Content-Encoding': 'gzip', 'AR-PoweredBy': 'Arvan Cloud (arvancloud.com)', 'AR-ATIME': '0.196', 'AR-Request-ID': '2da1f88413864e80cecd2815d453eb8a'}"
      ]
     },
     "execution_count": 38,
     "metadata": {},
     "output_type": "execute_result"
    }
   ],
   "source": [
    "response.headers"
   ]
  },
  {
   "cell_type": "code",
   "execution_count": 39,
   "metadata": {},
   "outputs": [
    {
     "data": {
      "text/plain": [
       "{'status': 'Ok',\n",
       " 'rows': [{'elements': [{'status': 'Ok',\n",
       "     'duration': {'value': 753, 'text': '۱۳ دقیقه'},\n",
       "     'distance': {'value': 9804, 'text': '۱۰ کیلومتر'}},\n",
       "    {'status': 'Ok',\n",
       "     'duration': {'value': 603, 'text': '۱۰ دقیقه'},\n",
       "     'distance': {'value': 5163, 'text': '۵ کیلومتر'}}]},\n",
       "  {'elements': [{'status': 'Ok',\n",
       "     'duration': {'value': 736, 'text': '۱۲ دقیقه'},\n",
       "     'distance': {'value': 7547, 'text': '۸ کیلومتر'}},\n",
       "    {'status': 'Ok',\n",
       "     'duration': {'value': 67, 'text': '۱ دقیقه'},\n",
       "     'distance': {'value': 389, 'text': '۴۰۰ متر'}}]}],\n",
       " 'origin_addresses': ['36.317559,59.532225', '36.337077,59.530843'],\n",
       " 'destination_addresses': ['36.350681,59.545227', '36.337012,59.530023']}"
      ]
     },
     "execution_count": 39,
     "metadata": {},
     "output_type": "execute_result"
    }
   ],
   "source": [
    "response.json()"
   ]
  },
  {
   "cell_type": "code",
   "execution_count": null,
   "metadata": {},
   "outputs": [],
   "source": []
  }
 ],
 "metadata": {
  "kernelspec": {
   "display_name": "Python 3",
   "language": "python",
   "name": "python3"
  },
  "language_info": {
   "codemirror_mode": {
    "name": "ipython",
    "version": 3
   },
   "file_extension": ".py",
   "mimetype": "text/x-python",
   "name": "python",
   "nbconvert_exporter": "python",
   "pygments_lexer": "ipython3",
   "version": "3.7.3"
  }
 },
 "nbformat": 4,
 "nbformat_minor": 2
}
